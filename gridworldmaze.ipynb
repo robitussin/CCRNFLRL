{
  "nbformat": 4,
  "nbformat_minor": 0,
  "metadata": {
    "colab": {
      "provenance": [],
      "authorship_tag": "ABX9TyO2VsAZFumRiAcwvcZrJ6jm",
      "include_colab_link": true
    },
    "kernelspec": {
      "name": "python3",
      "display_name": "Python 3"
    },
    "language_info": {
      "name": "python"
    }
  },
  "cells": [
    {
      "cell_type": "markdown",
      "metadata": {
        "id": "view-in-github",
        "colab_type": "text"
      },
      "source": [
        "<a href=\"https://colab.research.google.com/github/robitussin/CCRNFLRL/blob/main/gridworldmaze.ipynb\" target=\"_parent\"><img src=\"https://colab.research.google.com/assets/colab-badge.svg\" alt=\"Open In Colab\"/></a>"
      ]
    },
    {
      "cell_type": "code",
      "source": [
        "import numpy as np\n",
        "import matplotlib.pyplot as plt\n",
        "%matplotlib inline"
      ],
      "metadata": {
        "id": "MGrH1Jm-H9cy"
      },
      "execution_count": 237,
      "outputs": []
    },
    {
      "cell_type": "markdown",
      "source": [
        "# GRIDWORLD"
      ],
      "metadata": {
        "id": "8FD38Hgx7N_T"
      }
    },
    {
      "cell_type": "markdown",
      "source": [
        "Gridworlds are tabular environments that are used for testing reinforcement learning algorithms. An agent typically has four movements available to it and needs to determine the best strategy to maximize its reward. There can be walls, obsticals, pits, special tiles, whatever you want in the environment."
      ],
      "metadata": {
        "id": "3vN5FgMr7Lhu"
      }
    },
    {
      "cell_type": "markdown",
      "source": [
        "![gridworld.webp](data:image/webp;base64,UklGRiYFAABXRUJQVlA4TBoFAAAvPEKjAF/CKJIkKbM1w64Fbp4gAYmYQB6BgvsYbDBu20aSY809r3ltb9t/Efcuq0iSndzseyjJoB4bGMjgIX29R5r/ENn//w2BTmbUrpApZG4Hb9w8XhuXPz758RBtVq1WTRb1ZhlRo1epU6ZRSrfO6+iLxxM3j4/oJ+sGsOwAsuIEw4qAYAFYEbWEBMuiFi2OZdEkwQCAYACsOGkm1ALACAmpeQAssXuxeQAMEAAIBggAMO0t/37+fvz9+fuDBNu21bZxGM12OaAwM6iu7LDpz39Cyaf85y5Lt6pvRP9hQZLstOmTzaLknOBUJn1NMa4qAKaQpDtqNT9y1c0a7xf6j/6j/+i/ia1aLejY20KORKkYOPaVinCjPVRK3cLGkXq38QYaneEHdQMaJ0qz9goZjwOduoaMM2VYewGM555JXQDGhbLoPcPF65qNOoeLa2U1eMSC0EOlTsDiRjkM2lDxtuGijqDiTjkN20gRuakDoIiVTyU4se1lHyZayq9aKLHraQckEuXUX9cqwYhOq/Wn814nhkvMdDBemJ0gJMs1dtyY7YvYcUSy/MaOFobsTEwwHj6IK4Yvo/dJlkK+CMaSZexYygH5hh3fJ+pYwI75HJCf2KEm61haWtQ+KfAg3PuF/ptsYnW68FHVORH7ScZXLNiqKUCp/SQ7SvbDKxd0xpkSPkI2lOwr5RIkO2pWgh6yAfkkYEZTn3+vihQzZAHSSULR8qQFmRFbSP9kk4yS+/dzCfaQ9kmmv5grpHtySVrNtx0/VLlDmieVJBXNSQOexEJ6J5LCl8fN9DP9CIa0TiKJK1qnLXkQDelc+DQC5sv26dqjI4rTudBJiMdN/OepCaesI44kuc/0PQmn7DMSR2I+FWpWgikr3SyOBPnfTTP4xEm/lObv6C8In+1EawTnTml/yrZ8CPJO/1ysB+dKWWyeWhyNiKIQW8purSBxNBrPhEbMlO2a0OIoOJ/OoYrewhicmbJeB2McheIzS61pvWZtPjgzZb/21ziSId47rads2HgfRwIjzqeM/2DDOAptddqqhphHqpYMDfA8Rp6sA8//+ZrI40ceZ0kScjxLz7I00cdX8CwZZg7HSooGniUA/x/Zfg5nTU9i8Kzd0uRmx6ABnhWOJl0uobNZ3tQNZhzlcDx13usNNmLlql/rerVBMrLpu7hPXZC48ZSgxNuGl0Mk3ExgMGzjxOuahyOkTF+6dht0oCD84AQrU7avnMNHrHjuOZyiZZ7ahV3vGS2e+1YXeJmbfwKdTU7afRxYXCOmj+jEtPaKGA9D6Gzg3+6RbuMNM9rY2ajR3UN9c2qjRvLhHjubkD2vs/Hqu7vb+Z0ddtDt0n/0H/1H/+WOgGeN3ug/+o/+o//oP/qP/qP/6D/6j/4bd8CzBOD0H/1H/9F/Iynkfipu4kWl4KgmVJQL7poFgkDnOgc4UXHtVekyVpR8dsh1BRAjoY/1AJQoG3vrHzRm9H3XDhpFYwgMQQ6lENQo6+OoUdGPRQ3nASBQAwv3Lvxv5mJYz57Bi7L7c7Sog8od1RHD9gtWdQ4ZQlzQQI2i8Zs5aMxXjBNgOCYrzeqvBVraX1enodM7PT8/g49HbXz2zjyGSBCmSo6jmgMs7H1E9B/9R//9aweeJQCn/+g/+o/+o//oP/qP/qP/6D/6b9wBzxKA03/0H/1H/9F/9B/9R//Rf/Qf/TfugGcJwOk/+o/+o//oP/qP/qP/6D/6j62CS+EH46op)"
      ],
      "metadata": {
        "id": "PG_3Ke-h7d-W"
      }
    },
    {
      "cell_type": "code",
      "execution_count": 238,
      "metadata": {
        "id": "2dPGES5wHhPo"
      },
      "outputs": [],
      "source": [
        "class gridworld:\n",
        "    \n",
        "    def __init__(self):\n",
        "        self.dim = [5, 5]\n",
        "        self.pos_A = [0, 0]\n",
        "        self.rew_A = 15\n",
        "        self.trans_A = [4, 1]\n",
        "        # Define starting position\n",
        "        self.start = [4, 4]\n",
        "        self.s = self.start[:]\n",
        "        self.reward = 0\n",
        "\n",
        "        # Wall\n",
        "        self.wallA = [1, 0]\n",
        "        self.wallB = [1, 1]\n",
        "        self.wallC = [1, 2]\n",
        "        self.wallD = [1, 3]\n",
        "        self.wallE = [3, 1]\n",
        "        self.wallF = [3, 2]\n",
        "        self.wallG = [3, 3]\n",
        "        self.wallH = [3, 4]\n",
        "            \n",
        "        # Step count\n",
        "        self.n = 0\n",
        "        self.action_space = [\"U\", \"L\", \"D\", \"R\"]\n",
        "        self.action_prob = [0.25, 0.25, 0.25, 0.25]\n",
        "    \n",
        "    # Show empty environment\n",
        "    def show_grid(self):\n",
        "        # print rows\n",
        "        for i in range(self.dim[0]):\n",
        "            print(\"-\" * (self.dim[0] * 5 + 1))\n",
        "            row = []\n",
        "            for j in range(self.dim[1]):\n",
        "                if i == self.pos_A[0] and j == self.pos_A[1]:\n",
        "                    row.append(\"| A \")\n",
        "                elif i == self.trans_A[0] and j == self.trans_A[1]:\n",
        "                    row.append(\"| A'\")\n",
        "                elif i == self.start[0] and j == self.start[1]:\n",
        "                    row.append(\"| S \")\n",
        "                elif i == self.wallA[0] and j == self.wallA[1]:\n",
        "                    row.append(\"| W \")\n",
        "                elif i == self.wallB[0] and j == self.wallB[1]:\n",
        "                  row.append(\"| W \")   \n",
        "                elif i == self.wallC[0] and j == self.wallC[1]:\n",
        "                  row.append(\"| W \")           \n",
        "                else:\n",
        "                    row.append(\"|   \")\n",
        "            row.append(\"|  \")\n",
        "            print(' '.join(row))\n",
        "        print(\"-\" * (self.dim[0] * 5 + 1))\n",
        "        \n",
        "    # Show state\n",
        "    def show_state(self):\n",
        "        # print rows\n",
        "        for i in range(self.dim[0]):\n",
        "            print(\"-\" * (self.dim[0] * 5 + 1))\n",
        "            row = []\n",
        "            for j in range(self.dim[1]):\n",
        "                if i == self.s[0] and j == self.s[1]:\n",
        "                    row.append(\"| X \")\n",
        "                elif i == self.pos_A[0] and j == self.pos_A[1]:\n",
        "                    row.append(\"| A \")\n",
        "                elif i == self.trans_A[0] and j == self.trans_A[1]:\n",
        "                    row.append(\"| A'\")\n",
        "                elif i == self.wallA[0] and j == self.wallA[1]:\n",
        "                    row.append(\"| W \")\n",
        "                elif i == self.wallB[0] and j == self.wallB[1]:\n",
        "                  row.append(\"| W \")\n",
        "                elif i == self.wallC[0] and j == self.wallC[1]:\n",
        "                  row.append(\"| W \")\n",
        "                else:\n",
        "                    row.append(\"|   \")\n",
        "            row.append(\"|  \")\n",
        "            print(' '.join(row))\n",
        "        print(\"-\" * (self.dim[0] * 5 + 1))\n",
        "        \n",
        "    # Give the agent an action\n",
        "    def action(self, a):  \n",
        "        if a not in self.action_space:  \n",
        "            return \"Error: Invalid action submission\"\n",
        "        # Check for special transition states\n",
        "        if self.s == self.pos_A:\n",
        "            self.s = self.trans_A[:]\n",
        "            self.reward = self.rew_A\n",
        "        elif self.s == self.wallA:\n",
        "            self.reward = -1\n",
        "        elif self.s == self.wallB:\n",
        "            self.reward = -1\n",
        "        elif self.s == self.wallC:\n",
        "          self.reward = -1  \n",
        "        elif self.s == self.wallD:\n",
        "          self.reward = -1  \n",
        "        elif self.s == self.wallE:\n",
        "          self.reward = -1 \n",
        "        elif self.s == self.wallF:\n",
        "          self.reward = -1\n",
        "        elif self.s == self.wallG:\n",
        "          self.reward = -1  \n",
        "        elif self.s == self.wallH:\n",
        "          self.reward = -1                        \n",
        "        # Move up\n",
        "        elif a == \"U\" and self.s[0] > 0:\n",
        "              self.s[0] -= 1\n",
        "              self.reward = 0      \n",
        "        # Move left\n",
        "        elif a == \"L\" and self.s[1] > 0:\n",
        "            self.s[1] -= 1\n",
        "            self.reward = 0\n",
        "        # Move down\n",
        "        elif a == \"D\" and self.s[0] < self.dim[0] - 1:\n",
        "            self.s[0] += 1\n",
        "            self.reward = 0\n",
        "        # Move right\n",
        "        elif a == \"R\" and self.s[1] < self.dim[1] - 1:\n",
        "            self.s[1] += 1\n",
        "            self.reward = 0\n",
        "        else:\n",
        "            self.reward = -1\n",
        "        self.n += 1\n",
        "        return self.s, self.reward\n",
        "            \n",
        "    def reset(self):\n",
        "        self.s = self.start\n",
        "        self.reward = 0\n",
        "        self.n = 0"
      ]
    },
    {
      "cell_type": "markdown",
      "source": [
        "We can view the environment with the show_grid() method or use the show_state() method to see where the agent is."
      ],
      "metadata": {
        "id": "kKZc8aQj8DTt"
      }
    },
    {
      "cell_type": "code",
      "source": [
        "grid = gridworld()\n",
        "grid.show_grid()"
      ],
      "metadata": {
        "colab": {
          "base_uri": "https://localhost:8080/"
        },
        "id": "X9C52EK4HwjI",
        "outputId": "28e1807e-39f6-4cdc-ec57-3ccb531600ec"
      },
      "execution_count": 239,
      "outputs": [
        {
          "output_type": "stream",
          "name": "stdout",
          "text": [
            "--------------------------\n",
            "| A  |    |    |    |    |  \n",
            "--------------------------\n",
            "| W  | W  | W  |    |    |  \n",
            "--------------------------\n",
            "|    |    |    |    |    |  \n",
            "--------------------------\n",
            "|    |    |    |    |    |  \n",
            "--------------------------\n",
            "|    | A' |    |    | S  |  \n",
            "--------------------------\n"
          ]
        }
      ]
    },
    {
      "cell_type": "code",
      "source": [
        "grid.show_state()"
      ],
      "metadata": {
        "colab": {
          "base_uri": "https://localhost:8080/"
        },
        "id": "tUZhwVfbZbST",
        "outputId": "8ac2c3ee-0dc3-41a1-8bdc-525e4dde1112"
      },
      "execution_count": 240,
      "outputs": [
        {
          "output_type": "stream",
          "name": "stdout",
          "text": [
            "--------------------------\n",
            "| A  |    |    |    |    |  \n",
            "--------------------------\n",
            "| W  | W  | W  |    |    |  \n",
            "--------------------------\n",
            "|    |    |    |    |    |  \n",
            "--------------------------\n",
            "|    |    |    |    |    |  \n",
            "--------------------------\n",
            "|    | A' |    |    | X  |  \n",
            "--------------------------\n"
          ]
        }
      ]
    },
    {
      "cell_type": "markdown",
      "source": [
        "Calculate value function of each state"
      ],
      "metadata": {
        "id": "mXxXjuxBKDPA"
      }
    },
    {
      "cell_type": "code",
      "source": [
        "v = np.zeros(grid.dim)\n",
        "gamma = 0.9\n",
        "delta = 1e-5\n",
        "delta_t = 1\n",
        "\n",
        "while delta_t > delta:\n",
        "    v_new = np.zeros(grid.dim)\n",
        "    for i in range(grid.dim[0]):\n",
        "        for j in range(grid.dim[1]):\n",
        "            for action in grid.action_space:\n",
        "                grid.s = [i, j]\n",
        "                s, r = grid.action(action)\n",
        "                prob = grid.action_prob[grid.action_space.index(action)]\n",
        "                v_new[i, j] += prob * (r + gamma * v[s[0], s[1]])\n",
        "    delta_t = np.sum(np.abs(v - v_new))\n",
        "    v = v_new.copy()\n",
        "    \n",
        "print(v.round(1))"
      ],
      "metadata": {
        "colab": {
          "base_uri": "https://localhost:8080/"
        },
        "id": "c6-z5y3DH0oP",
        "outputId": "eaa05913-65fc-437e-e747-37560744dbd7"
      },
      "execution_count": 241,
      "outputs": [
        {
          "output_type": "stream",
          "name": "stdout",
          "text": [
            "[[  8.2  -2.6  -6.   -6.9  -6.8]\n",
            " [-10.  -10.  -10.  -10.   -7.4]\n",
            " [ -7.8  -8.1  -8.1  -8.1  -7.7]\n",
            " [ -7.5 -10.  -10.  -10.  -10. ]\n",
            " [ -7.1  -7.5  -7.7  -7.8  -8.2]]\n"
          ]
        }
      ]
    },
    {
      "cell_type": "code",
      "source": [
        "q = np.zeros((grid.dim[0], grid.dim[1], len(grid.action_space)))\n",
        "delta_t = 1\n",
        "\n",
        "while delta_t > delta:\n",
        "    q_old = q.copy()\n",
        "    for i in range(grid.dim[0]):\n",
        "        for j in range(grid.dim[1]):\n",
        "            for a in grid.action_space:\n",
        "                grid.s = [i, j]\n",
        "                s, r = grid.action(a)\n",
        "                a_index = grid.action_space.index(a)\n",
        "                q[i, j, a_index] = r + gamma * np.max(q_old[s[0], s[1]])\n",
        "    delta_t = np.sum(np.abs(q - q_old))\n",
        "    \n",
        "print(np.max(q, axis=2).round(1))"
      ],
      "metadata": {
        "colab": {
          "base_uri": "https://localhost:8080/"
        },
        "id": "fOWwZZMBH7hI",
        "outputId": "45487f1a-e846-4e8a-9824-2833c3cf9ee2"
      },
      "execution_count": 242,
      "outputs": [
        {
          "output_type": "stream",
          "name": "stdout",
          "text": [
            "[[ 19.4  17.5  15.8  14.2  12.8]\n",
            " [-10.  -10.  -10.  -10.   11.5]\n",
            " [  6.8   7.5   8.4   9.3  10.3]\n",
            " [  6.1 -10.  -10.  -10.  -10. ]\n",
            " [  5.5   4.9   4.4   4.    3.6]]\n"
          ]
        }
      ]
    },
    {
      "cell_type": "markdown",
      "source": [
        "# Optimal Policy"
      ],
      "metadata": {
        "id": "xdb09iMt9KK3"
      }
    },
    {
      "cell_type": "code",
      "source": [
        "def opt_policy(q, grid):\n",
        "    q_max = np.max(q, axis=2)\n",
        "    x = np.linspace(0, grid.dim[0] - 1, grid.dim[0]) + 0.5\n",
        "    y = np.linspace(grid.dim[1] - 1, 0, grid.dim[1]) + 0.5\n",
        "    X, Y = np.meshgrid(x, y)\n",
        "    zeros = np.zeros((grid.dim))\n",
        "    \n",
        "    fig = plt.figure(figsize=(12,8))\n",
        "    ax = plt.axes()\n",
        "    \n",
        "    for i, action in enumerate(grid.action_space):\n",
        "        q_star = np.zeros((5, 5))\n",
        "        for j in range(grid.dim[0]):\n",
        "            for k in reversed(range(grid.dim[1])):\n",
        "                if q[j, k, i] == q_max[j, k]:\n",
        "                    q_star[j, k] = 0.4\n",
        "        # Plot results\n",
        "        if action == \"U\":\n",
        "            # Vectors point in positive Y-direction\n",
        "            plt.quiver(X, Y, zeros, q_star, scale=1, units='xy')\n",
        "        elif action == \"L\":\n",
        "            # Vectors point in negative X-direction\n",
        "            plt.quiver(X, Y, -q_star, zeros, scale=1, units='xy')\n",
        "        elif action == \"D\":\n",
        "            # Vectors point in negative Y-direction\n",
        "            plt.quiver(X, Y, zeros, -q_star, scale=1, units='xy')\n",
        "        elif action == \"R\":\n",
        "            # Vectors point in positive X-direction\n",
        "            plt.quiver(X, Y, q_star, zeros, scale=1, units='xy')\n",
        "        \n",
        "    plt.xlim([0, grid.dim[0]])\n",
        "    plt.ylim([0, grid.dim[1]])\n",
        "    ax.set_yticklabels([])\n",
        "    ax.set_xticklabels([])\n",
        "    plt.grid()\n",
        "    plt.show()"
      ],
      "metadata": {
        "id": "rwpQ7eqjJGJ8"
      },
      "execution_count": 243,
      "outputs": []
    },
    {
      "cell_type": "code",
      "source": [
        "opt_policy(q, grid)"
      ],
      "metadata": {
        "colab": {
          "base_uri": "https://localhost:8080/",
          "height": 657
        },
        "id": "mH57wyBfJMlM",
        "outputId": "d51b5459-6506-4f9b-a54b-c613b4ffa516"
      },
      "execution_count": 244,
      "outputs": [
        {
          "output_type": "display_data",
          "data": {
            "text/plain": [
              "<Figure size 1200x800 with 1 Axes>"
            ],
            "image/png": "[encoded data removed]"
          },
          "metadata": {}
        }
      ]
    },
    {
      "cell_type": "markdown",
      "source": [
        "from https://www.datahubbs.com/reinforcement-learning-markov-decision-processes/"
      ],
      "metadata": {
        "id": "vyq8HIs6LKFA"
      }
    }
  ]
}