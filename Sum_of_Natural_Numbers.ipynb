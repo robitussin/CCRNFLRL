{
  "nbformat": 4,
  "nbformat_minor": 0,
  "metadata": {
    "colab": {
      "provenance": [],
      "authorship_tag": "ABX9TyOQH1hqFXCyeOoeE+0nKu3C",
      "include_colab_link": true
    },
    "kernelspec": {
      "name": "python3",
      "display_name": "Python 3"
    },
    "language_info": {
      "name": "python"
    }
  },
  "cells": [
    {
      "cell_type": "markdown",
      "metadata": {
        "id": "view-in-github",
        "colab_type": "text"
      },
      "source": [
        "<a href=\"https://colab.research.google.com/github/robitussin/CCRNFLRL/blob/main/Sum_of_Natural_Numbers.ipynb\" target=\"_parent\"><img src=\"https://colab.research.google.com/assets/colab-badge.svg\" alt=\"Open In Colab\"/></a>"
      ]
    },
    {
      "cell_type": "markdown",
      "source": [
        "# Get the sum on n natural numbers"
      ],
      "metadata": {
        "id": "9sIL21V1tBum"
      }
    },
    {
      "cell_type": "markdown",
      "source": [
        "## Traditional Approach"
      ],
      "metadata": {
        "id": "RMz_Wi-vtC7O"
      }
    },
    {
      "cell_type": "code",
      "execution_count": 33,
      "metadata": {
        "colab": {
          "base_uri": "https://localhost:8080/"
        },
        "id": "iq6zpfc2mzSa",
        "outputId": "8a12858c-375b-41bc-d4b9-79d5e2a10f69"
      },
      "outputs": [
        {
          "output_type": "stream",
          "name": "stdout",
          "text": [
            "Enter a number: 5\n",
            "The sum is 15\n"
          ]
        }
      ],
      "source": [
        "num = int(input(\"Enter a number: \"))  \n",
        "\n",
        "sum = 0  \n",
        "\n",
        "while(num > 0):  \n",
        "    sum += num  \n",
        "    num -= 1  \n",
        "  \n",
        "print(sum)  "
      ]
    },
    {
      "cell_type": "markdown",
      "source": [
        "## Dynamic Programming"
      ],
      "metadata": {
        "id": "gn0Z7l3rr6Oj"
      }
    },
    {
      "cell_type": "markdown",
      "source": [
        "F(n) = F(n-1) + n"
      ],
      "metadata": {
        "id": "ANHyga22sX7j"
      }
    },
    {
      "cell_type": "code",
      "source": [
        "n = int(input(\"Enter a number: \"))  \n",
        "\n",
        "mylist = [0]\n",
        "i = 1;\n",
        "\n",
        "while(i <= n):\n",
        "  mylist.append(mylist[i-1] + i)\n",
        "  i += 1\n",
        "\n",
        "print(mylist[n])"
      ],
      "metadata": {
        "colab": {
          "base_uri": "https://localhost:8080/"
        },
        "id": "nXDvu5zuoMwa",
        "outputId": "ccf9bc47-4fe7-4769-b9a3-305d1d4ba61b"
      },
      "execution_count": 36,
      "outputs": [
        {
          "output_type": "stream",
          "name": "stdout",
          "text": [
            "Enter a number: 5\n",
            "15\n"
          ]
        }
      ]
    }
  ]
}