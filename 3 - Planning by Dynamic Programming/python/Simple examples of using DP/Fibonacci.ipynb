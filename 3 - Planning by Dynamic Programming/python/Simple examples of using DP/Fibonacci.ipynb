{
  "cells": [
    {
      "cell_type": "markdown",
      "metadata": {
        "id": "view-in-github",
        "colab_type": "text"
      },
      "source": [
        "<a href=\"https://colab.research.google.com/github/robitussin/CCRNFLRL/blob/main/Fibonacci.ipynb\" target=\"_parent\"><img src=\"https://colab.research.google.com/assets/colab-badge.svg\" alt=\"Open In Colab\"/></a>"
      ]
    },
    {
      "cell_type": "markdown",
      "source": [
        "# Fibonacci Sequence"
      ],
      "metadata": {
        "id": "OD63Sk1RhRwO"
      }
    },
    {
      "cell_type": "markdown",
      "source": [
        "The Fibonacci sequence is a series of numbers in which each number is the sum of the two that precede it"
      ],
      "metadata": {
        "id": "N1t510NHwUBT"
      }
    },
    {
      "cell_type": "markdown",
      "source": [
        "![fib.png](data:image/png;base64,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)"
      ],
      "metadata": {
        "id": "nybhfbRlwGW_"
      }
    },
    {
      "cell_type": "markdown",
      "source": [
        "### Using Recursion"
      ],
      "metadata": {
        "id": "Kt2xeiPKtmNy"
      }
    },
    {
      "cell_type": "code",
      "execution_count": null,
      "metadata": {
        "collapsed": true,
        "id": "49zKJJCkg-R8"
      },
      "outputs": [],
      "source": [
        "def fib_recursive(n):\n",
        "    if n == 1 or n == 2:\n",
        "        result = 1\n",
        "    else:\n",
        "        result = fib_recursive(n-1) + fib_recursive(n-2)\n",
        "    return result"
      ]
    },
    {
      "cell_type": "code",
      "source": [
        "fib_recursive(5)"
      ],
      "metadata": {
        "colab": {
          "base_uri": "https://localhost:8080/"
        },
        "id": "QmrqTvFj0RHY",
        "outputId": "b5c241b0-f5d3-447e-81d9-707f043da722"
      },
      "execution_count": null,
      "outputs": [
        {
          "output_type": "execute_result",
          "data": {
            "text/plain": [
              "5"
            ]
          },
          "metadata": {},
          "execution_count": 74
        }
      ]
    },
    {
      "cell_type": "code",
      "execution_count": null,
      "metadata": {
        "colab": {
          "base_uri": "https://localhost:8080/"
        },
        "id": "t8l2Iqr-g-R-",
        "outputId": "32a2df35-78d3-459a-8f73-dd322968f17a"
      },
      "outputs": [
        {
          "output_type": "stream",
          "name": "stdout",
          "text": [
            "1.46 µs ± 306 ns per loop (mean ± std. dev. of 7 runs, 1000 loops each)\n"
          ]
        }
      ],
      "source": [
        "%timeit -n1000 fib_recursive(5)"
      ]
    },
    {
      "cell_type": "markdown",
      "source": [
        "### Using Iteration"
      ],
      "metadata": {
        "id": "uVQ3SetiuDPY"
      }
    },
    {
      "cell_type": "code",
      "source": [
        "def fib_iterative_loop(n):\n",
        "    a, b = 0, 1\n",
        "    for _ in range(n):\n",
        "        a, b = b, a + b\n",
        "    return a"
      ],
      "metadata": {
        "id": "1H88aL0JuBx5"
      },
      "execution_count": null,
      "outputs": []
    },
    {
      "cell_type": "code",
      "source": [
        "fib_iterative_loop(5)"
      ],
      "metadata": {
        "colab": {
          "base_uri": "https://localhost:8080/"
        },
        "id": "ZZQI2LCu0Vk7",
        "outputId": "8a30376f-4e2d-450f-9f10-f1d93f84cf7b"
      },
      "execution_count": null,
      "outputs": [
        {
          "output_type": "execute_result",
          "data": {
            "text/plain": [
              "5"
            ]
          },
          "metadata": {},
          "execution_count": 77
        }
      ]
    },
    {
      "cell_type": "code",
      "source": [
        "%timeit -n1000 fib_iterative_loop(5)"
      ],
      "metadata": {
        "colab": {
          "base_uri": "https://localhost:8080/"
        },
        "id": "EaisIh7XuPFX",
        "outputId": "732fa1f0-e526-4aa7-93b5-21f8544b57de"
      },
      "execution_count": null,
      "outputs": [
        {
          "output_type": "stream",
          "name": "stdout",
          "text": [
            "659 ns ± 26.8 ns per loop (mean ± std. dev. of 7 runs, 1000 loops each)\n"
          ]
        }
      ]
    },
    {
      "cell_type": "markdown",
      "source": [
        "### Using memoization"
      ],
      "metadata": {
        "id": "LBqkeObhu5iM"
      }
    },
    {
      "cell_type": "code",
      "execution_count": null,
      "metadata": {
        "collapsed": true,
        "id": "SpOe3Oqgg-R_"
      },
      "outputs": [],
      "source": [
        "def fib_2(n, memo):\n",
        "    if memo[n] is not None:\n",
        "        return memo[n]\n",
        "    if n == 1 or n == 2:\n",
        "        result = 1\n",
        "    else:\n",
        "        result = fib_2(n-1, memo) + fib_2(n-2, memo)\n",
        "    memo[n] = result\n",
        "    return result\n",
        "\n",
        "def fib_memo(n):\n",
        "    memo = [None] * (n + 1)\n",
        "    return fib_2(n, memo)"
      ]
    },
    {
      "cell_type": "code",
      "source": [
        "fib_memo(5)"
      ],
      "metadata": {
        "colab": {
          "base_uri": "https://localhost:8080/"
        },
        "id": "j3rfr-qZ0H7Q",
        "outputId": "57635926-9c1d-46e1-92bf-7bf41e7c5c4c"
      },
      "execution_count": null,
      "outputs": [
        {
          "output_type": "execute_result",
          "data": {
            "text/plain": [
              "5"
            ]
          },
          "metadata": {},
          "execution_count": 80
        }
      ]
    },
    {
      "cell_type": "code",
      "execution_count": null,
      "metadata": {
        "colab": {
          "base_uri": "https://localhost:8080/"
        },
        "id": "oNEM6Umhg-SA",
        "outputId": "a3e81b8c-94cf-43db-f002-f629c5a1f27c"
      },
      "outputs": [
        {
          "output_type": "stream",
          "name": "stdout",
          "text": [
            "1.64 µs ± 425 ns per loop (mean ± std. dev. of 7 runs, 1000 loops each)\n"
          ]
        }
      ],
      "source": [
        "%timeit -n1000 fib_memo(5)"
      ]
    },
    {
      "cell_type": "code",
      "source": [
        "global fib_cache\n",
        "fib_cache = {0:0, 1:1}\n",
        "\n",
        "def fib_memoized(n):\n",
        "    if not n in fib_cache:  # Only compute fib(n) if this is the first time seeing it\n",
        "        fib_cache[n] = fib_memoized(n-1) + fib_memoized(n-2)\n",
        "    return fib_cache[n]"
      ],
      "metadata": {
        "id": "dI-rFi0XunQ3"
      },
      "execution_count": null,
      "outputs": []
    },
    {
      "cell_type": "code",
      "source": [
        "fib_memoized(5)"
      ],
      "metadata": {
        "colab": {
          "base_uri": "https://localhost:8080/"
        },
        "id": "uZzR6xGu0enR",
        "outputId": "2355ea8a-ad18-4ffe-afd9-938ecdcc13a8"
      },
      "execution_count": null,
      "outputs": [
        {
          "output_type": "execute_result",
          "data": {
            "text/plain": [
              "5"
            ]
          },
          "metadata": {},
          "execution_count": 83
        }
      ]
    },
    {
      "cell_type": "code",
      "source": [
        "fib_cache = {0:0, 1:1}  # reset the cache for each timeit iteration\n",
        "%timeit -n1000 fib_memoized(5)"
      ],
      "metadata": {
        "colab": {
          "base_uri": "https://localhost:8080/"
        },
        "id": "VD7A0L97usAI",
        "outputId": "e5ea43f7-feb9-4f3c-9ec3-dae3171f27f2"
      },
      "execution_count": null,
      "outputs": [
        {
          "output_type": "stream",
          "name": "stdout",
          "text": [
            "165 ns ± 59.7 ns per loop (mean ± std. dev. of 7 runs, 1000 loops each)\n"
          ]
        }
      ]
    },
    {
      "cell_type": "markdown",
      "source": [
        "### Bottom up Solution"
      ],
      "metadata": {
        "id": "hgrhxfO-wh4I"
      }
    },
    {
      "cell_type": "code",
      "execution_count": null,
      "metadata": {
        "collapsed": true,
        "id": "Q8MaPLozg-SA"
      },
      "outputs": [],
      "source": [
        "\n",
        "def fib_bottom_up(n):\n",
        "    if n == 1 or n == 2:\n",
        "        return 1\n",
        "    bottom_up = [None] * (n+1)\n",
        "    bottom_up[1] = 1\n",
        "    bottom_up[2] = 1\n",
        "    for i in range(3, n+1):\n",
        "        bottom_up[i] = bottom_up[i-1] + bottom_up[i-2]\n",
        "    return bottom_up[n]"
      ]
    },
    {
      "cell_type": "code",
      "source": [
        "fib_bottom_up(5)"
      ],
      "metadata": {
        "colab": {
          "base_uri": "https://localhost:8080/"
        },
        "id": "o_heb2690r2q",
        "outputId": "868963d1-ec8b-4666-9bee-810ccea9e99b"
      },
      "execution_count": null,
      "outputs": [
        {
          "output_type": "execute_result",
          "data": {
            "text/plain": [
              "5"
            ]
          },
          "metadata": {},
          "execution_count": 86
        }
      ]
    },
    {
      "cell_type": "code",
      "execution_count": null,
      "metadata": {
        "colab": {
          "base_uri": "https://localhost:8080/"
        },
        "id": "ukn13Y8vg-SA",
        "outputId": "35a1ebd2-3333-4b7e-ab87-0df787e92421"
      },
      "outputs": [
        {
          "output_type": "stream",
          "name": "stdout",
          "text": [
            "The slowest run took 4.01 times longer than the fastest. This could mean that an intermediate result is being cached.\n",
            "2.09 µs ± 1.44 µs per loop (mean ± std. dev. of 7 runs, 1000 loops each)\n"
          ]
        }
      ],
      "source": [
        "%timeit -n1000 fib_bottom_up(5)"
      ]
    }
  ],
  "metadata": {
    "kernelspec": {
      "display_name": "Python 3",
      "language": "python",
      "name": "python3"
    },
    "language_info": {
      "codemirror_mode": {
        "name": "ipython",
        "version": 3
      },
      "file_extension": ".py",
      "mimetype": "text/x-python",
      "name": "python",
      "nbconvert_exporter": "python",
      "pygments_lexer": "ipython3",
      "version": "3.6.0"
    },
    "colab": {
      "provenance": [],
      "include_colab_link": true
    }
  },
  "nbformat": 4,
  "nbformat_minor": 0
}